{
 "cells": [
  {
   "cell_type": "markdown",
   "id": "eb9d96c8",
   "metadata": {},
   "source": [
    "# Acoustic Shield Deployment Pipeline\n",
    "This notebook demonstrates end-to-end deployment using SageMaker and AWS CLI."
   ]
  },
  {
   "cell_type": "markdown",
   "id": "34f6f503",
   "metadata": {},
   "source": [
    "## 1. Launch SageMaker Processing Job (Data Generation)"
   ]
  },
  {
   "cell_type": "code",
   "execution_count": null,
   "id": "3660878a",
   "metadata": {},
   "outputs": [],
   "source": [
    "!aws sagemaker create-processing-job \\\n",
    "  --profile acm-hack \\\n",
    "  --processing-job-name acousticshield-augment-001 \\\n",
    "  --role-arn <role-sagemaker-processing-arn> \\\n",
    "  --app-specification ImageUri=<your-image-uri>,ContainerEntrypoint=['python3','/opt/ml/processing/augment.py'] \\\n",
    "  --environment \"[{\"Name\":\"COUNT_PER_CLASS\",\"Value\":\"500\"}]\" \\\n",
    "  --processing-output-config \"[{\"OutputName\":\"audio\",\"S3Output\":{\"S3Uri\":\"s3://acousticshield-ml/train/\",\"LocalPath\":\"/opt/ml/outputs/audio\",\"UploadMode\":\"EndOfJob\"}}]\""
   ]
  },
  {
   "cell_type": "markdown",
   "id": "d1211d97",
   "metadata": {},
   "source": [
    "## 2. Launch SageMaker Training Job (Model Fine-tuning)"
   ]
  },
  {
   "cell_type": "code",
   "execution_count": null,
   "id": "98bd042c",
   "metadata": {},
   "outputs": [],
   "source": [
    "!aws sagemaker create-training-job \\\n",
    "  --profile acm-hack \\\n",
    "  --training-job-name acousticshield-train-001 \\\n",
    "  --role-arn <role-sagemaker-train-arn> \\\n",
    "  --algorithm-specification TrainingImage=<your-image-uri>,TrainingInputMode=File \\\n",
    "  --input-data-config \"[{\"ChannelName\":\"train\",\"DataSource\":{\"S3DataSource\":{\"S3Uri\":\"s3://acousticshield-ml/train/\",\"S3DataType\":\"S3Prefix\",\"S3DataDistributionType\":\"FullyReplicated\"}}}}]\" \\\n",
    "  --output-data-config S3OutputPath=s3://acousticshield-ml/model/ \\\n",
    "  --resource-config InstanceType=ml.m5.xlarge,InstanceCount=1,VolumeSizeInGB=30 \\\n",
    "  --hyper-parameters \"{\"EPOCHS\":\"3\",\"BATCH_SIZE\":\"8\"}\""
   ]
  },
  {
   "cell_type": "markdown",
   "id": "58e28b46",
   "metadata": {},
   "source": [
    "## 3. Deploy SageMaker Endpoint (Inference)"
   ]
  },
  {
   "cell_type": "code",
   "execution_count": null,
   "id": "0a51cbd5",
   "metadata": {},
   "outputs": [],
   "source": [
    "!aws sagemaker create-endpoint-config \\\n",
    "  --profile acm-hack \\\n",
    "  --endpoint-config-name acousticshield-endpoint-config \\\n",
    "  --production-variants \"[{\"VariantName\":\"AllTraffic\",\"ModelName\":\"acousticshield-model\",\"InitialInstanceCount\":1,\"InstanceType\":\"ml.m5.xlarge\"}]\""
   ]
  },
  {
   "cell_type": "code",
   "execution_count": null,
   "id": "3a567a50",
   "metadata": {},
   "outputs": [],
   "source": [
    "!aws sagemaker create-endpoint \\\n",
    "  --profile acm-hack \\\n",
    "  --endpoint-name acousticshield-endpoint \\\n",
    "  --endpoint-config-name acousticshield-endpoint-config"
   ]
  },
  {
   "cell_type": "markdown",
   "id": "f889b841",
   "metadata": {},
   "source": [
    "## 4. Test Endpoint with Sample Audio"
   ]
  },
  {
   "cell_type": "code",
   "execution_count": null,
   "id": "e633ca7f",
   "metadata": {},
   "outputs": [],
   "source": [
    "import base64, json, requests\n",
    "with open('sample.wav', 'rb') as f:\n",
    "payload = {'audio_b64': audio_b64}\n",
    "r = requests.post('<API_GATEWAY_URL>/predict', json=payload)\n",
    "print(r.json())"
   ]
  }
 ],
 "metadata": {
  "language_info": {
   "name": "python"
  }
 },
 "nbformat": 4,
 "nbformat_minor": 5
}
